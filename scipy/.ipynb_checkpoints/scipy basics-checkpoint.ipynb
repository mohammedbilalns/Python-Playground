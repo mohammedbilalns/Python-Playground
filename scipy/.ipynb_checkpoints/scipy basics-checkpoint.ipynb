{
 "cells": [
  {
   "cell_type": "code",
   "execution_count": 7,
   "id": "1fb300db-61f3-46f1-b658-53da32ad529a",
   "metadata": {},
   "outputs": [],
   "source": [
    "import numpy as np \n",
    "import matplotlib.pyplot as plt \n",
    "import scipy as sp \n",
    "from scipy.optimize import minimize "
   ]
  },
  {
   "cell_type": "markdown",
   "id": "d5214f21-3124-43a7-aca1-9c726db04726",
   "metadata": {},
   "source": [
    "# Minimise \n",
    "1. minimize $f(x)= (x-3)^2$"
   ]
  },
  {
   "cell_type": "code",
   "execution_count": 6,
   "id": "e65ec053-5dda-4a7f-a1c3-ee81691d3167",
   "metadata": {},
   "outputs": [],
   "source": [
    "def f(x):\n",
    "    return (x-3)**2\n",
    "res =  minimize(f,2)"
   ]
  },
  {
   "cell_type": "code",
   "execution_count": 9,
   "id": "093ce3c8-cde3-418d-9bff-195c44221890",
   "metadata": {},
   "outputs": [
    {
     "data": {
      "text/plain": [
       "2.999999992549203"
      ]
     },
     "execution_count": 9,
     "metadata": {},
     "output_type": "execute_result"
    }
   ],
   "source": [
    "res.x[0]\n"
   ]
  },
  {
   "cell_type": "markdown",
   "id": "38688684-caff-43aa-9ff1-02a960de1069",
   "metadata": {},
   "source": [
    "2. minimize $f(x,y) = (x-1)^2 + (y-2.5)^2$ subject to \n",
    "$$ \n",
    "x-2y+2 \\ge 0 $$\n",
    "$$-x-2y+6 \\ge 0$$ $$ -x+2y+2 \\ge 0 $$ $$x \\ge 0 $$ $$ y \\ge 0\n",
    "$$"
   ]
  },
  {
   "cell_type": "code",
   "execution_count": 9,
   "id": "2dd13f5b-5a8f-471d-8b70-e59c45ea9fa2",
   "metadata": {},
   "outputs": [],
   "source": [
    "f = lambda x: (x[0] -1)**2 + (x[1]- 2.5)**2\n",
    "cons = ({ 'type': 'ineq', 'fun': lambda x:x[0]-2*x[1]+2},\n",
    "        {'type': 'ineq', 'fun': lambda x:-x[0]-2*x[1]+6},\n",
    "        {'type': 'ineq', 'fun': lambda x: -x[0]+2*x[1]+2},\n",
    "       )\n",
    "bnds = ((0,None),(0,None))\n",
    "res = minimize(f,(2,0), bounds=bnds, constraints = cons)"
   ]
  },
  {
   "cell_type": "code",
   "execution_count": 11,
   "id": "29b6762a-ba97-4273-bd14-76c2b3b5ad2c",
   "metadata": {},
   "outputs": [
    {
     "data": {
      "text/plain": [
       "array([1.4, 1.7])"
      ]
     },
     "execution_count": 11,
     "metadata": {},
     "output_type": "execute_result"
    }
   ],
   "source": [
    "res.x"
   ]
  },
  {
   "cell_type": "markdown",
   "id": "dca9c9b0-643c-4ad7-96bd-4be593f5490f",
   "metadata": {},
   "source": [
    "# Interpolation"
   ]
  },
  {
   "cell_type": "code",
   "execution_count": null,
   "id": "16f28fee-ff38-4306-b473-f26e27899641",
   "metadata": {},
   "outputs": [],
   "source": []
  }
 ],
 "metadata": {
  "kernelspec": {
   "display_name": "Python 3 (ipykernel)",
   "language": "python",
   "name": "python3"
  },
  "language_info": {
   "codemirror_mode": {
    "name": "ipython",
    "version": 3
   },
   "file_extension": ".py",
   "mimetype": "text/x-python",
   "name": "python",
   "nbconvert_exporter": "python",
   "pygments_lexer": "ipython3",
   "version": "3.12.3"
  }
 },
 "nbformat": 4,
 "nbformat_minor": 5
}
