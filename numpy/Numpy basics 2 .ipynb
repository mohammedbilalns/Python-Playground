{
 "cells": [
  {
   "cell_type": "code",
   "execution_count": 4,
   "id": "aa5807ec-7510-4f49-ae5b-20ede2c7c453",
   "metadata": {},
   "outputs": [],
   "source": [
    "import numpy as np"
   ]
  },
  {
   "cell_type": "code",
   "execution_count": 6,
   "id": "a79f73f0-4b9c-4180-8113-bb0f76bb465c",
   "metadata": {},
   "outputs": [
    {
     "data": {
      "text/plain": [
       "array([0., 0., 0., 0.])"
      ]
     },
     "execution_count": 6,
     "metadata": {},
     "output_type": "execute_result"
    }
   ],
   "source": [
    "np.zeros(4) # one dimentions "
   ]
  },
  {
   "cell_type": "markdown",
   "id": "97d56975-da98-483b-b04a-07d6ce1438e9",
   "metadata": {},
   "source": [
    "### All ones "
   ]
  },
  {
   "cell_type": "code",
   "execution_count": 11,
   "id": "ef4daa4f-b8f1-4b9d-9f02-55f236e7be63",
   "metadata": {},
   "outputs": [
    {
     "data": {
      "text/plain": [
       "array([[[1, 1, 1, 1],\n",
       "        [1, 1, 1, 1],\n",
       "        [1, 1, 1, 1],\n",
       "        [1, 1, 1, 1],\n",
       "        [1, 1, 1, 1]],\n",
       "\n",
       "       [[1, 1, 1, 1],\n",
       "        [1, 1, 1, 1],\n",
       "        [1, 1, 1, 1],\n",
       "        [1, 1, 1, 1],\n",
       "        [1, 1, 1, 1]],\n",
       "\n",
       "       [[1, 1, 1, 1],\n",
       "        [1, 1, 1, 1],\n",
       "        [1, 1, 1, 1],\n",
       "        [1, 1, 1, 1],\n",
       "        [1, 1, 1, 1]],\n",
       "\n",
       "       [[1, 1, 1, 1],\n",
       "        [1, 1, 1, 1],\n",
       "        [1, 1, 1, 1],\n",
       "        [1, 1, 1, 1],\n",
       "        [1, 1, 1, 1]]], dtype=int32)"
      ]
     },
     "execution_count": 11,
     "metadata": {},
     "output_type": "execute_result"
    }
   ],
   "source": [
    "np.ones((4,5,4), dtype = 'int32')"
   ]
  },
  {
   "cell_type": "markdown",
   "id": "be07e719-5c7d-4889-9677-357aa673678c",
   "metadata": {},
   "source": [
    "### All Other numbers "
   ]
  },
  {
   "cell_type": "code",
   "execution_count": 14,
   "id": "dbbbff21-e48d-442f-a1fc-35490bda8cde",
   "metadata": {},
   "outputs": [
    {
     "data": {
      "text/plain": [
       "array([[99, 99, 99],\n",
       "       [99, 99, 99]])"
      ]
     },
     "execution_count": 14,
     "metadata": {},
     "output_type": "execute_result"
    }
   ],
   "source": [
    "np.full((2,3),99) ## 2*3 array with all 99"
   ]
  },
  {
   "cell_type": "code",
   "execution_count": 16,
   "id": "9d51bb63-e60b-4672-9ff1-95c3bbfcf4f1",
   "metadata": {},
   "outputs": [
    {
     "data": {
      "text/plain": [
       "array([[4, 4],\n",
       "       [4, 4]])"
      ]
     },
     "execution_count": 16,
     "metadata": {},
     "output_type": "execute_result"
    }
   ],
   "source": [
    "a = [[1,2],[3,43]]\n",
    "np.full_like(a,4)"
   ]
  },
  {
   "cell_type": "markdown",
   "id": "f24724d0-9217-4f0d-948b-6fe2cb502f01",
   "metadata": {},
   "source": [
    "### Array with random numbers"
   ]
  },
  {
   "cell_type": "code",
   "execution_count": 19,
   "id": "337fd7a9-b9ff-4d84-a0ea-8b215c62e04c",
   "metadata": {},
   "outputs": [
    {
     "data": {
      "text/plain": [
       "array([[0.25606081, 0.88541714, 0.47664936, 0.65926004, 0.58107429],\n",
       "       [0.92879643, 0.43666618, 0.27317944, 0.68941728, 0.33883569],\n",
       "       [0.58656299, 0.54360262, 0.36335888, 0.09483961, 0.92576173],\n",
       "       [0.62525881, 0.51245877, 0.66617142, 0.35954814, 0.76054783]])"
      ]
     },
     "execution_count": 19,
     "metadata": {},
     "output_type": "execute_result"
    }
   ],
   "source": [
    "np.random.rand(4,5)"
   ]
  },
  {
   "cell_type": "code",
   "execution_count": null,
   "id": "8e7777c6-d82f-4ead-b995-df9877d50144",
   "metadata": {},
   "outputs": [],
   "source": []
  }
 ],
 "metadata": {
  "kernelspec": {
   "display_name": "Python 3 (ipykernel)",
   "language": "python",
   "name": "python3"
  },
  "language_info": {
   "codemirror_mode": {
    "name": "ipython",
    "version": 3
   },
   "file_extension": ".py",
   "mimetype": "text/x-python",
   "name": "python",
   "nbconvert_exporter": "python",
   "pygments_lexer": "ipython3",
   "version": "3.12.3"
  }
 },
 "nbformat": 4,
 "nbformat_minor": 5
}
