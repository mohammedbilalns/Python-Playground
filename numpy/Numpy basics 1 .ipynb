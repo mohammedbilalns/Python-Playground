{
 "cells": [
  {
   "cell_type": "code",
   "execution_count": 11,
   "id": "d9f13815-c5e3-4459-865d-de1e2fe8caa5",
   "metadata": {},
   "outputs": [],
   "source": [
    "import numpy as np "
   ]
  },
  {
   "cell_type": "markdown",
   "id": "62f8eae0-10d6-45a4-a2ec-766d502d5351",
   "metadata": {},
   "source": [
    "# Arrays  Basics"
   ]
  },
  {
   "cell_type": "markdown",
   "id": "23ef8e7e-5a05-454f-950c-c50a2e166dae",
   "metadata": {},
   "source": [
    "### Defining an array"
   ]
  },
  {
   "cell_type": "code",
   "execution_count": 14,
   "id": "6e862d9f-ad73-4d23-a350-867d1c361b23",
   "metadata": {},
   "outputs": [
    {
     "name": "stdout",
     "output_type": "stream",
     "text": [
      "[1 2 3]\n"
     ]
    }
   ],
   "source": [
    "a = np.array([1,2,3], dtype= 'int16')\n",
    "print(a)"
   ]
  },
  {
   "cell_type": "markdown",
   "id": "a30dafe8-e1d0-4faf-bff9-276de4577920",
   "metadata": {},
   "source": [
    "### Multidimensional Array "
   ]
  },
  {
   "cell_type": "code",
   "execution_count": 4,
   "id": "778c0aef-f80f-4469-9820-a8666bea5cfc",
   "metadata": {},
   "outputs": [
    {
     "name": "stdout",
     "output_type": "stream",
     "text": [
      "[[ 4  5  6 23 21]\n",
      " [23 34 54 67 89]]\n"
     ]
    }
   ],
   "source": [
    "b = np.array([[4,5,6,23,21],[23,34,54,67,89]])\n",
    "print(b)"
   ]
  },
  {
   "cell_type": "markdown",
   "id": "ad4aab36-99f1-43c1-a8fe-7ce871ca2792",
   "metadata": {},
   "source": [
    "### Get the dimension of the array \n"
   ]
  },
  {
   "cell_type": "code",
   "execution_count": 9,
   "id": "13360bbf-6448-4998-b290-c4bf012b5cb3",
   "metadata": {},
   "outputs": [
    {
     "data": {
      "text/plain": [
       "1"
      ]
     },
     "execution_count": 9,
     "metadata": {},
     "output_type": "execute_result"
    }
   ],
   "source": [
    "a.ndim"
   ]
  },
  {
   "cell_type": "code",
   "execution_count": 8,
   "id": "5a405c47-3be3-4049-a14c-22b60536c8f1",
   "metadata": {},
   "outputs": [
    {
     "data": {
      "text/plain": [
       "2"
      ]
     },
     "execution_count": 8,
     "metadata": {},
     "output_type": "execute_result"
    }
   ],
   "source": [
    "b.ndim"
   ]
  },
  {
   "cell_type": "code",
   "execution_count": 10,
   "id": "44b9355e-274f-4815-854c-8be7dbb00d13",
   "metadata": {},
   "outputs": [
    {
     "data": {
      "text/plain": [
       "(3,)"
      ]
     },
     "execution_count": 10,
     "metadata": {},
     "output_type": "execute_result"
    }
   ],
   "source": [
    "a.shape"
   ]
  },
  {
   "cell_type": "code",
   "execution_count": 11,
   "id": "c1e63e65-5797-4989-9213-ccb33d6d1662",
   "metadata": {},
   "outputs": [
    {
     "data": {
      "text/plain": [
       "(2, 5)"
      ]
     },
     "execution_count": 11,
     "metadata": {},
     "output_type": "execute_result"
    }
   ],
   "source": [
    "b.shape"
   ]
  },
  {
   "cell_type": "markdown",
   "id": "cf1648f3-3d2a-4f6f-bade-ca3a357fef9e",
   "metadata": {},
   "source": [
    "## Get the type of the variable "
   ]
  },
  {
   "cell_type": "code",
   "execution_count": 15,
   "id": "30465ad4-073a-498e-aa35-0124258ea0de",
   "metadata": {},
   "outputs": [
    {
     "data": {
      "text/plain": [
       "dtype('int16')"
      ]
     },
     "execution_count": 15,
     "metadata": {},
     "output_type": "execute_result"
    }
   ],
   "source": [
    "a.dtype"
   ]
  },
  {
   "cell_type": "code",
   "execution_count": 13,
   "id": "080c1b4d-7680-46af-a12e-24a477fb8776",
   "metadata": {},
   "outputs": [
    {
     "data": {
      "text/plain": [
       "dtype('int64')"
      ]
     },
     "execution_count": 13,
     "metadata": {},
     "output_type": "execute_result"
    }
   ],
   "source": [
    "b.dtype"
   ]
  },
  {
   "cell_type": "markdown",
   "id": "0cf39900-d2ba-41b8-b68d-397d5a014ea9",
   "metadata": {},
   "source": [
    "## Get the size of the variable"
   ]
  },
  {
   "cell_type": "code",
   "execution_count": 16,
   "id": "f25a7af6-a396-40db-9571-3de5c3dec332",
   "metadata": {},
   "outputs": [
    {
     "data": {
      "text/plain": [
       "2"
      ]
     },
     "execution_count": 16,
     "metadata": {},
     "output_type": "execute_result"
    }
   ],
   "source": [
    "a.itemsize "
   ]
  },
  {
   "cell_type": "code",
   "execution_count": 17,
   "id": "f9707bbb-f60e-4aec-b420-0317ec4cbaed",
   "metadata": {},
   "outputs": [
    {
     "data": {
      "text/plain": [
       "8"
      ]
     },
     "execution_count": 17,
     "metadata": {},
     "output_type": "execute_result"
    }
   ],
   "source": [
    "b.itemsize"
   ]
  },
  {
   "cell_type": "code",
   "execution_count": 18,
   "id": "73845903-ee82-41da-8625-868412249dd5",
   "metadata": {},
   "outputs": [
    {
     "data": {
      "text/plain": [
       "6"
      ]
     },
     "execution_count": 18,
     "metadata": {},
     "output_type": "execute_result"
    }
   ],
   "source": [
    "# Total size \n",
    "a.nbytes"
   ]
  },
  {
   "cell_type": "markdown",
   "id": "5a189d58-afa7-468c-bc81-482fda23416b",
   "metadata": {},
   "source": [
    "## Accessing/ Changing specific elements rows columns , etc"
   ]
  },
  {
   "cell_type": "code",
   "execution_count": 21,
   "id": "e2692f2a-90f2-4361-83ab-b6641cc52d4f",
   "metadata": {},
   "outputs": [
    {
     "name": "stdout",
     "output_type": "stream",
     "text": [
      "[[  1   5   3  47  67  54  56]\n",
      " [ 45  45  67 645  32  34  64]]\n"
     ]
    }
   ],
   "source": [
    "c= np.array([[1,5,3,47,67,54,56],[45,45,67,645,32,34,64]])\n",
    "print(c)"
   ]
  },
  {
   "cell_type": "code",
   "execution_count": 22,
   "id": "d407b54e-9ec3-433c-a539-3f268453300d",
   "metadata": {},
   "outputs": [
    {
     "data": {
      "text/plain": [
       "32"
      ]
     },
     "execution_count": 22,
     "metadata": {},
     "output_type": "execute_result"
    }
   ],
   "source": [
    "# Gettting an elemtent from the array \n",
    "c[1,4]"
   ]
  },
  {
   "cell_type": "markdown",
   "id": "40c1308d-cf01-41c5-baa1-d1c528544257",
   "metadata": {},
   "source": [
    "### Getting the entire row/column from an array "
   ]
  },
  {
   "cell_type": "code",
   "execution_count": 23,
   "id": "6ceca73a-50a2-4e10-8a4c-e8c2537eb103",
   "metadata": {},
   "outputs": [
    {
     "data": {
      "text/plain": [
       "array([ 1,  5,  3, 47, 67, 54, 56])"
      ]
     },
     "execution_count": 23,
     "metadata": {},
     "output_type": "execute_result"
    }
   ],
   "source": [
    "c[0, :]"
   ]
  },
  {
   "cell_type": "code",
   "execution_count": 26,
   "id": "da9bd45c-c581-45bb-b377-083ec1520884",
   "metadata": {},
   "outputs": [
    {
     "data": {
      "text/plain": [
       "array([ 3, 67])"
      ]
     },
     "execution_count": 26,
     "metadata": {},
     "output_type": "execute_result"
    }
   ],
   "source": [
    "c[ : , 2]"
   ]
  },
  {
   "cell_type": "markdown",
   "id": "de3475a9-01b6-4ae5-8120-d72626d56616",
   "metadata": {},
   "source": [
    "### Getting group of elemnents "
   ]
  },
  {
   "cell_type": "code",
   "execution_count": 27,
   "id": "41db331f-5038-4d04-9598-242ccbede168",
   "metadata": {},
   "outputs": [
    {
     "data": {
      "text/plain": [
       "array([ 5, 47, 54])"
      ]
     },
     "execution_count": 27,
     "metadata": {},
     "output_type": "execute_result"
    }
   ],
   "source": [
    "# First two are indexes and the third one is the step size \n",
    "c[0, 1:6:2]"
   ]
  },
  {
   "cell_type": "markdown",
   "id": "33501691-b9ec-470f-86d2-a9029009b720",
   "metadata": {},
   "source": [
    "### Changing Elements "
   ]
  },
  {
   "cell_type": "code",
   "execution_count": 28,
   "id": "53ad275f-db31-4d6d-8772-e5e877c79270",
   "metadata": {},
   "outputs": [
    {
     "data": {
      "text/plain": [
       "array([[  1,   5,   3,  47,  67,  54,  56],\n",
       "       [ 45,  45,  67, 645,  32,  10,  64]])"
      ]
     },
     "execution_count": 28,
     "metadata": {},
     "output_type": "execute_result"
    }
   ],
   "source": [
    "c[1,5] = 10\n",
    "c"
   ]
  },
  {
   "cell_type": "code",
   "execution_count": 29,
   "id": "c81e8d5a-1041-465c-97ce-fed6ecd69e88",
   "metadata": {},
   "outputs": [
    {
     "data": {
      "text/plain": [
       "array([[  1,   5,   5,  47,  67,  54,  56],\n",
       "       [ 45,  45,   5, 645,  32,  10,  64]])"
      ]
     },
     "execution_count": 29,
     "metadata": {},
     "output_type": "execute_result"
    }
   ],
   "source": [
    "c[:,2] = 5\n",
    "c"
   ]
  },
  {
   "cell_type": "markdown",
   "id": "1b730b71-d245-42ac-8052-33d4c9931649",
   "metadata": {},
   "source": [
    "## 3 d array "
   ]
  },
  {
   "cell_type": "code",
   "execution_count": 30,
   "id": "1bd8bfbb-33f3-4d82-821b-aba97373271a",
   "metadata": {},
   "outputs": [
    {
     "data": {
      "text/plain": [
       "array([[[ 1,  2],\n",
       "        [ 4,  5]],\n",
       "\n",
       "       [[ 6,  5],\n",
       "        [45, 54]]])"
      ]
     },
     "execution_count": 30,
     "metadata": {},
     "output_type": "execute_result"
    }
   ],
   "source": [
    "d = np.array([[[1,2],[4,5]],[[6,5],[45,54]]])\n",
    "d\n"
   ]
  },
  {
   "cell_type": "markdown",
   "id": "b48417b2-d62e-42cf-9a42-b227e099166a",
   "metadata": {},
   "source": [
    "Getting specific element "
   ]
  },
  {
   "cell_type": "code",
   "execution_count": 31,
   "id": "5ac63428-874a-479e-b45e-2b48897c808c",
   "metadata": {},
   "outputs": [
    {
     "data": {
      "text/plain": [
       "5"
      ]
     },
     "execution_count": 31,
     "metadata": {},
     "output_type": "execute_result"
    }
   ],
   "source": [
    "d[0,1,1] "
   ]
  },
  {
   "cell_type": "markdown",
   "id": "7f4165d7-9303-4dca-bc38-f3c9cd7a0a02",
   "metadata": {},
   "source": [
    "replacing "
   ]
  },
  {
   "cell_type": "code",
   "execution_count": 35,
   "id": "9f09f433-89e5-4fab-b412-ed9ca98cbda8",
   "metadata": {},
   "outputs": [
    {
     "data": {
      "text/plain": [
       "array([[[ 1,  2],\n",
       "        [ 5,  4]],\n",
       "\n",
       "       [[ 6,  5],\n",
       "        [ 7, 45]]])"
      ]
     },
     "execution_count": 35,
     "metadata": {},
     "output_type": "execute_result"
    }
   ],
   "source": [
    "d[:,1,:] = [[5,4],[7,45]]\n",
    "d"
   ]
  },
  {
   "cell_type": "markdown",
   "id": "eccfd4db-b60a-4f52-a104-49b3a7777bd1",
   "metadata": {},
   "source": [
    "## Zero array "
   ]
  },
  {
   "cell_type": "code",
   "execution_count": 36,
   "id": "791edf64-2713-4436-87b2-cc0ed6cb9bfa",
   "metadata": {},
   "outputs": [
    {
     "data": {
      "text/plain": [
       "array([0., 0., 0., 0.])"
      ]
     },
     "execution_count": 36,
     "metadata": {},
     "output_type": "execute_result"
    }
   ],
   "source": [
    "np.zeros(4)"
   ]
  },
  {
   "cell_type": "code",
   "execution_count": 40,
   "id": "193edc2d-fcb9-4e9d-baea-ad110405e53d",
   "metadata": {},
   "outputs": [
    {
     "data": {
      "text/plain": [
       "array([[0., 0., 0., 0., 0.],\n",
       "       [0., 0., 0., 0., 0.],\n",
       "       [0., 0., 0., 0., 0.],\n",
       "       [0., 0., 0., 0., 0.]])"
      ]
     },
     "execution_count": 40,
     "metadata": {},
     "output_type": "execute_result"
    }
   ],
   "source": [
    "np.zeros((4,5)) # multidimensional"
   ]
  },
  {
   "cell_type": "markdown",
   "id": "ccb7b002-c3b8-4587-a457-c2be02d5961a",
   "metadata": {},
   "source": [
    "## All ones "
   ]
  },
  {
   "cell_type": "code",
   "execution_count": 41,
   "id": "a1caf066-1182-4119-8832-0048e024788b",
   "metadata": {},
   "outputs": [
    {
     "data": {
      "text/plain": [
       "array([[1, 1, 1, 1],\n",
       "       [1, 1, 1, 1],\n",
       "       [1, 1, 1, 1],\n",
       "       [1, 1, 1, 1]], dtype=int32)"
      ]
     },
     "execution_count": 41,
     "metadata": {},
     "output_type": "execute_result"
    }
   ],
   "source": [
    "np.ones((4,4), dtype=\"int32\")"
   ]
  },
  {
   "cell_type": "markdown",
   "id": "aaacab20-8b8a-4f09-a134-471e1efd68b6",
   "metadata": {},
   "source": [
    "### All other numbers "
   ]
  },
  {
   "cell_type": "code",
   "execution_count": 43,
   "id": "f1667a0e-15cf-4a67-aa90-90a81db47d1e",
   "metadata": {},
   "outputs": [
    {
     "data": {
      "text/plain": [
       "array([[98, 98, 98, 98],\n",
       "       [98, 98, 98, 98],\n",
       "       [98, 98, 98, 98]])"
      ]
     },
     "execution_count": 43,
     "metadata": {},
     "output_type": "execute_result"
    }
   ],
   "source": [
    "np.full((3,4),98)"
   ]
  },
  {
   "cell_type": "markdown",
   "id": "1e9b2466-1bc8-4b19-9f03-d819a916a8c9",
   "metadata": {},
   "source": [
    "## Constant with the size of existing array "
   ]
  },
  {
   "cell_type": "code",
   "execution_count": 12,
   "id": "6e2e3e41-dc60-47cd-b00d-bdae8f9dcc00",
   "metadata": {},
   "outputs": [
    {
     "data": {
      "text/plain": [
       "array([[4, 4],\n",
       "       [4, 4]])"
      ]
     },
     "execution_count": 12,
     "metadata": {},
     "output_type": "execute_result"
    }
   ],
   "source": [
    "a=np.array([[1,3],[4,5]])\n",
    "np.full_like(a,4)"
   ]
  },
  {
   "cell_type": "markdown",
   "id": "9e04b362-084f-4b78-8f33-4314f4a5f188",
   "metadata": {},
   "source": [
    "### Array with random Decimals "
   ]
  },
  {
   "cell_type": "code",
   "execution_count": 4,
   "id": "187cf81b-3194-4bcc-83bc-3a6100cac595",
   "metadata": {},
   "outputs": [
    {
     "data": {
      "text/plain": [
       "array([[0.29742574, 0.07174528, 0.12955381, 0.32131754, 0.18013567],\n",
       "       [0.33366638, 0.55049126, 0.95095479, 0.68914667, 0.11860389],\n",
       "       [0.74487109, 0.97290399, 0.77632195, 0.68697255, 0.46471742],\n",
       "       [0.6328616 , 0.94261241, 0.99734448, 0.75431911, 0.59288535]])"
      ]
     },
     "execution_count": 4,
     "metadata": {},
     "output_type": "execute_result"
    }
   ],
   "source": [
    "np.random.rand(4,5)"
   ]
  },
  {
   "cell_type": "code",
   "execution_count": 14,
   "id": "3aa5ff7d-c4cd-4865-9402-1d8c2f52d466",
   "metadata": {},
   "outputs": [
    {
     "data": {
      "text/plain": [
       "array([[0.89369006, 0.08598913],\n",
       "       [0.92509215, 0.05911556]])"
      ]
     },
     "execution_count": 14,
     "metadata": {},
     "output_type": "execute_result"
    }
   ],
   "source": [
    "np.random.random_sample(a.shape) # with shape of defined array "
   ]
  },
  {
   "cell_type": "markdown",
   "id": "54d51485-4fa5-41af-a51c-7591a55b6838",
   "metadata": {},
   "source": [
    "### Array with random Integers"
   ]
  },
  {
   "cell_type": "code",
   "execution_count": 17,
   "id": "ed985921-a3f2-45bc-aa21-17bb8bf661d7",
   "metadata": {},
   "outputs": [
    {
     "data": {
      "text/plain": [
       "array([[6, 5, 4],\n",
       "       [5, 6, 4],\n",
       "       [4, 4, 5]])"
      ]
     },
     "execution_count": 17,
     "metadata": {},
     "output_type": "execute_result"
    }
   ],
   "source": [
    "np.random.randint(4,7, size=(3,3)) # with 4 to 7 "
   ]
  },
  {
   "cell_type": "markdown",
   "id": "a1052d5d-d5fb-4431-9271-eed24f5be4f2",
   "metadata": {},
   "source": [
    "### Identity Matrix "
   ]
  },
  {
   "cell_type": "code",
   "execution_count": 21,
   "id": "31211ffd-c4e3-452a-a9ee-38803d3d10e8",
   "metadata": {},
   "outputs": [
    {
     "data": {
      "text/plain": [
       "array([[1., 0., 0., 0., 0.],\n",
       "       [0., 1., 0., 0., 0.],\n",
       "       [0., 0., 1., 0., 0.],\n",
       "       [0., 0., 0., 1., 0.],\n",
       "       [0., 0., 0., 0., 1.]])"
      ]
     },
     "execution_count": 21,
     "metadata": {},
     "output_type": "execute_result"
    }
   ],
   "source": [
    "np.identity(5)"
   ]
  },
  {
   "cell_type": "markdown",
   "id": "3daf3543-7d72-4a00-8096-ba0a7bedd2a4",
   "metadata": {},
   "source": [
    "### Array with repeating predefined array  "
   ]
  },
  {
   "cell_type": "code",
   "execution_count": 25,
   "id": "e6306388-1f1c-43d6-88d1-8c4a955026b2",
   "metadata": {},
   "outputs": [
    {
     "name": "stdout",
     "output_type": "stream",
     "text": [
      "[[1 2 3]\n",
      " [1 2 3]\n",
      " [1 2 3]]\n"
     ]
    }
   ],
   "source": [
    "arr = np.array([[1,2,3]])\n",
    "r1 = np.repeat(arr, 3, axis = 0)\n",
    "print(r1)"
   ]
  },
  {
   "cell_type": "markdown",
   "id": "ef659681-c934-44c3-a914-baf1b2638eaf",
   "metadata": {},
   "source": [
    "## Example 1"
   ]
  },
  {
   "cell_type": "code",
   "execution_count": 36,
   "id": "97f12f4b-0997-4419-95d3-0cd7ae973167",
   "metadata": {},
   "outputs": [
    {
     "name": "stdout",
     "output_type": "stream",
     "text": [
      "[[1. 1. 1. 1. 1.]\n",
      " [1. 1. 1. 1. 1.]\n",
      " [1. 1. 1. 1. 1.]\n",
      " [1. 1. 1. 1. 1.]\n",
      " [1. 1. 1. 1. 1.]]\n",
      "[[0. 0. 0.]\n",
      " [0. 9. 0.]\n",
      " [0. 0. 0.]]\n",
      "[[1. 1. 1. 1. 1.]\n",
      " [1. 0. 0. 0. 1.]\n",
      " [1. 0. 9. 0. 1.]\n",
      " [1. 0. 0. 0. 1.]\n",
      " [1. 1. 1. 1. 1.]]\n"
     ]
    }
   ],
   "source": [
    "output = np.ones((5,5))\n",
    "print(output)\n",
    "z= np.zeros((3,3))\n",
    "z[1,1]=9\n",
    "print(z)\n",
    "\n",
    "output[1:-1,1:-1] = z\n",
    "print(output)"
   ]
  },
  {
   "cell_type": "markdown",
   "id": "42019d81-aa10-49e2-9cde-feede5d30b43",
   "metadata": {},
   "source": [
    "## Beware When Copying "
   ]
  },
  {
   "cell_type": "code",
   "execution_count": 40,
   "id": "1700a3c9-80b7-430d-9bf4-92b40686aaed",
   "metadata": {},
   "outputs": [
    {
     "data": {
      "text/plain": [
       "array([100,   3,   4])"
      ]
     },
     "execution_count": 40,
     "metadata": {},
     "output_type": "execute_result"
    }
   ],
   "source": [
    "a= np.array([1,3,4])\n",
    "b=a\n",
    "b[0]= 100 # This will replace a too \n",
    "a \n"
   ]
  },
  {
   "cell_type": "markdown",
   "id": "9f06edb3-6401-41f1-a22e-9184c622d385",
   "metadata": {},
   "source": [
    "### Copying properly "
   ]
  },
  {
   "cell_type": "code",
   "execution_count": 42,
   "id": "2287bd23-e548-419e-9c54-060c4e8b2c8d",
   "metadata": {},
   "outputs": [
    {
     "data": {
      "text/plain": [
       "array([34, 53, 53])"
      ]
     },
     "execution_count": 42,
     "metadata": {},
     "output_type": "execute_result"
    }
   ],
   "source": [
    "a = np.array([34,53,53])\n",
    "b= np.copy(a)\n",
    "b[1]=132412\n",
    "a"
   ]
  },
  {
   "cell_type": "markdown",
   "id": "191e06bc-0274-4cc4-a2ab-2805dd41df74",
   "metadata": {},
   "source": [
    "## Elementwise Additions /substraction ..."
   ]
  },
  {
   "cell_type": "code",
   "execution_count": 47,
   "id": "450b5e2e-484d-4fcb-837d-332effa2881f",
   "metadata": {},
   "outputs": [
    {
     "data": {
      "text/plain": [
       "array([0.5, 1.5, 2. ])"
      ]
     },
     "execution_count": 47,
     "metadata": {},
     "output_type": "execute_result"
    }
   ],
   "source": [
    "a= np.array([1,3,4])\n",
    "a+2 # adds two to each entries \n",
    "a-2 # substracts two from each entries \n",
    "a*2 # multiples two to each entries \n",
    "a/2 # divides two to each entry of the matrix"
   ]
  },
  {
   "cell_type": "code",
   "execution_count": 49,
   "id": "51c6dd0d-9ed9-4bb2-abff-624fdfd4348f",
   "metadata": {},
   "outputs": [
    {
     "data": {
      "text/plain": [
       "array([44, 57, 49])"
      ]
     },
     "execution_count": 49,
     "metadata": {},
     "output_type": "execute_result"
    }
   ],
   "source": [
    "b= np.array([43,54,45])\n",
    "a+b # elementwise addition a and b "
   ]
  },
  {
   "cell_type": "code",
   "execution_count": 52,
   "id": "d4177a3f-418e-4c59-8e84-1b6382535fdb",
   "metadata": {},
   "outputs": [
    {
     "data": {
      "text/plain": [
       "array([  1,  81, 256])"
      ]
     },
     "execution_count": 52,
     "metadata": {},
     "output_type": "execute_result"
    }
   ],
   "source": [
    "a ** 2 ## squares a \n",
    "a ** 4 ## 4th power of each element in a "
   ]
  },
  {
   "cell_type": "markdown",
   "id": "e48b5540-6d27-4895-bb1b-7d297c8550bf",
   "metadata": {},
   "source": [
    " ### Triganometric funtionms "
   ]
  },
  {
   "cell_type": "code",
   "execution_count": 58,
   "id": "686f13f6-9bbd-4ca2-bdf9-93c9860982e5",
   "metadata": {},
   "outputs": [
    {
     "data": {
      "text/plain": [
       "array([ 1.55740772, -0.14254654,  1.15782128])"
      ]
     },
     "execution_count": 58,
     "metadata": {},
     "output_type": "execute_result"
    }
   ],
   "source": [
    "np.sin(a)\n",
    "np.tan(a)"
   ]
  },
  {
   "cell_type": "markdown",
   "id": "e73b75a4-36c8-4969-b3c3-9a323e06a00d",
   "metadata": {},
   "source": [
    "### Linear Algebra"
   ]
  },
  {
   "cell_type": "code",
   "execution_count": 69,
   "id": "e7492d24-b6bb-43a1-813c-a0527bf9f6e9",
   "metadata": {},
   "outputs": [
    {
     "data": {
      "text/plain": [
       "0.0"
      ]
     },
     "execution_count": 69,
     "metadata": {},
     "output_type": "execute_result"
    }
   ],
   "source": [
    "a = np.full((2,3),2)\n",
    "b = np.ones((3,2))\n",
    "\n",
    "\n",
    "#matrix multiplication \n",
    "np.matmul(a,b)\n",
    "\n",
    "#Determinant  \n",
    "c= np.full((2,2),3)\n",
    "np.linalg.det(c)"
   ]
  },
  {
   "cell_type": "markdown",
   "id": "8f8326b6-4d0d-43f0-b8af-41881a35f3aa",
   "metadata": {},
   "source": [
    "### Statitics"
   ]
  },
  {
   "cell_type": "code",
   "execution_count": 73,
   "id": "56dd7578-f11e-42bc-af00-28019d3cfa1e",
   "metadata": {},
   "outputs": [
    {
     "data": {
      "text/plain": [
       "array([[1, 2, 3],\n",
       "       [4, 2, 4]])"
      ]
     },
     "execution_count": 73,
     "metadata": {},
     "output_type": "execute_result"
    }
   ],
   "source": [
    "stats = np.array([[1,2,3],[4,2,4]])\n",
    "stats"
   ]
  },
  {
   "cell_type": "code",
   "execution_count": 83,
   "id": "4eba8273-6ba0-4730-9860-26911a1585b7",
   "metadata": {},
   "outputs": [
    {
     "data": {
      "text/plain": [
       "array([5, 4, 7])"
      ]
     },
     "execution_count": 83,
     "metadata": {},
     "output_type": "execute_result"
    }
   ],
   "source": [
    "np.min(stats) # minimum \n",
    "np.max(stats, axis = 0) #maximum row \n",
    "np.max(stats, axis = 1) # maximum column\n",
    "np.sum(stats, axis=0) # sum along rows"
   ]
  },
  {
   "cell_type": "markdown",
   "id": "37cb5a4c-fa84-435c-80b7-ba4aebbf8cf9",
   "metadata": {},
   "source": [
    "### Reorganising Arrays "
   ]
  },
  {
   "cell_type": "code",
   "execution_count": 89,
   "id": "0b7d906a-685a-4d66-9889-2ed477ba51b7",
   "metadata": {},
   "outputs": [
    {
     "data": {
      "text/plain": [
       "array([[[ 1,  2],\n",
       "        [34,  4]],\n",
       "\n",
       "       [[43, 54],\n",
       "        [ 3,  3]]])"
      ]
     },
     "execution_count": 89,
     "metadata": {},
     "output_type": "execute_result"
    }
   ],
   "source": [
    "before = np.array([[1,2,34,4],[43,54,3,3]])\n",
    "after = before.reshape((2,2,2))\n",
    "after"
   ]
  },
  {
   "cell_type": "markdown",
   "id": "2f5e0768-be9e-44fb-85aa-99b264d04030",
   "metadata": {},
   "source": [
    "# Vertically stacking vectors "
   ]
  },
  {
   "cell_type": "code",
   "execution_count": 91,
   "id": "f17010b9-b29f-4e0d-8b25-5de20bba8cba",
   "metadata": {},
   "outputs": [
    {
     "data": {
      "text/plain": [
       "array([[ 1,  2,  3,  4],\n",
       "       [43, 45, 45, 43],\n",
       "       [43, 45, 45, 43],\n",
       "       [ 1,  2,  3,  4]])"
      ]
     },
     "execution_count": 91,
     "metadata": {},
     "output_type": "execute_result"
    }
   ],
   "source": [
    "v1= np.array([1,2,3,4])\n",
    "v2= np.array([43,45,45,43])\n",
    "np.vstack([v1,v2,v2,v1])"
   ]
  },
  {
   "cell_type": "markdown",
   "id": "b2ca256a-33e9-43ed-978d-0ffa28f7b3d0",
   "metadata": {},
   "source": [
    "## Horizontal stacks "
   ]
  },
  {
   "cell_type": "code",
   "execution_count": 93,
   "id": "d8d76834-5665-4893-a883-801d5793e0db",
   "metadata": {},
   "outputs": [
    {
     "data": {
      "text/plain": [
       "array([[1., 1., 1., 0., 0., 0., 0.],\n",
       "       [1., 1., 1., 0., 0., 0., 0.]])"
      ]
     },
     "execution_count": 93,
     "metadata": {},
     "output_type": "execute_result"
    }
   ],
   "source": [
    "h1 = np.ones((2,3))\n",
    "h2 = np.zeros((2,4))\n",
    "np.hstack((h1,h2))"
   ]
  },
  {
   "cell_type": "markdown",
   "id": "fed37a98-f662-4428-91e6-75275a45c81c",
   "metadata": {},
   "source": [
    "# Miscallenous"
   ]
  },
  {
   "cell_type": "markdown",
   "id": "7e2cc20a-2911-4bd3-b805-68db2ef87b60",
   "metadata": {},
   "source": [
    "### load from file"
   ]
  },
  {
   "cell_type": "code",
   "execution_count": 97,
   "id": "7b772533-5f51-460a-b487-1a4344826b8b",
   "metadata": {},
   "outputs": [
    {
     "ename": "NameError",
     "evalue": "name 'int32' is not defined",
     "output_type": "error",
     "traceback": [
      "\u001b[0;31m---------------------------------------------------------------------------\u001b[0m",
      "\u001b[0;31mNameError\u001b[0m                                 Traceback (most recent call last)",
      "Cell \u001b[0;32mIn[97], line 2\u001b[0m\n\u001b[1;32m      1\u001b[0m filedata \u001b[38;5;241m=\u001b[39m np\u001b[38;5;241m.\u001b[39mgenfromtxt(\u001b[38;5;124m'\u001b[39m\u001b[38;5;124mdata.txt\u001b[39m\u001b[38;5;124m'\u001b[39m, delimiter\u001b[38;5;241m=\u001b[39m\u001b[38;5;124m'\u001b[39m\u001b[38;5;124m,\u001b[39m\u001b[38;5;124m'\u001b[39m) \u001b[38;5;66;03m##gets information from a file as decimals \u001b[39;00m\n\u001b[0;32m----> 2\u001b[0m filedata\u001b[38;5;241m.\u001b[39mastype(\u001b[43mint32\u001b[49m) \u001b[38;5;66;03m## Converts fiel into integer \u001b[39;00m\n",
      "\u001b[0;31mNameError\u001b[0m: name 'int32' is not defined"
     ]
    }
   ],
   "source": [
    "filedata = np.genfromtxt('data.txt', delimiter=',') ##gets information from a file as decimals \n",
    "filedata.astype(int32) ## Converts fiel into integer \n"
   ]
  },
  {
   "cell_type": "markdown",
   "id": "9b4fca09-dece-42d6-83d1-4ee4173f4792",
   "metadata": {},
   "source": [
    "### Boolean masking  Advanced Indexing "
   ]
  },
  {
   "cell_type": "code",
   "execution_count": 99,
   "id": "ea2a8806-15c8-45d4-9b7b-cf0e4dace277",
   "metadata": {},
   "outputs": [
    {
     "data": {
      "text/plain": [
       "array([[False, False, False],\n",
       "       [False, False, False]])"
      ]
     },
     "execution_count": 99,
     "metadata": {},
     "output_type": "execute_result"
    }
   ],
   "source": [
    "a> 2"
   ]
  },
  {
   "cell_type": "code",
   "execution_count": 102,
   "id": "1e99a471-96f9-4aeb-9c85-919ebb260c19",
   "metadata": {},
   "outputs": [
    {
     "data": {
      "text/plain": [
       "array([2, 2, 2, 2, 2, 2])"
      ]
     },
     "execution_count": 102,
     "metadata": {},
     "output_type": "execute_result"
    }
   ],
   "source": [
    "a[a >1]"
   ]
  },
  {
   "cell_type": "code",
   "execution_count": 105,
   "id": "46855439-8ecc-4b9a-a905-367a93118034",
   "metadata": {},
   "outputs": [
    {
     "data": {
      "text/plain": [
       "array([1, 3, 4])"
      ]
     },
     "execution_count": 105,
     "metadata": {},
     "output_type": "execute_result"
    }
   ],
   "source": [
    "a = np.array([1,2,3,4])# index with a list \n",
    "a[[0,2,3]]"
   ]
  },
  {
   "cell_type": "code",
   "execution_count": 110,
   "id": "60146d77-f8bf-4cfd-b129-311ce363dfb9",
   "metadata": {},
   "outputs": [
    {
     "data": {
      "text/plain": [
       "array([False, False])"
      ]
     },
     "execution_count": 110,
     "metadata": {},
     "output_type": "execute_result"
    }
   ],
   "source": [
    "np.any(b>1,axis=1) #along column\n",
    "np.all(b>1, axis =0)"
   ]
  },
  {
   "cell_type": "code",
   "execution_count": 111,
   "id": "51c2db05-fe63-4423-8544-a5305d9dd73e",
   "metadata": {},
   "outputs": [
    {
     "data": {
      "text/plain": [
       "array([[False, False],\n",
       "       [False, False],\n",
       "       [False, False]])"
      ]
     },
     "execution_count": 111,
     "metadata": {},
     "output_type": "execute_result"
    }
   ],
   "source": [
    "(b > 2) & (b<4)"
   ]
  },
  {
   "cell_type": "code",
   "execution_count": null,
   "id": "1b563557-133e-4593-a28b-5fbfd0da0e23",
   "metadata": {},
   "outputs": [],
   "source": []
  }
 ],
 "metadata": {
  "kernelspec": {
   "display_name": "Python 3 (ipykernel)",
   "language": "python",
   "name": "python3"
  },
  "language_info": {
   "codemirror_mode": {
    "name": "ipython",
    "version": 3
   },
   "file_extension": ".py",
   "mimetype": "text/x-python",
   "name": "python",
   "nbconvert_exporter": "python",
   "pygments_lexer": "ipython3",
   "version": "3.12.3"
  }
 },
 "nbformat": 4,
 "nbformat_minor": 5
}
